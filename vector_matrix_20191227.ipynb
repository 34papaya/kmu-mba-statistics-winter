{
 "cells": [
  {
   "cell_type": "markdown",
   "metadata": {},
   "source": [
    "# 파이썬 기반의 통계 분석"
   ]
  },
  {
   "cell_type": "markdown",
   "metadata": {},
   "source": [
    "## 강봉주\n",
    "## 2019-2020 겨울 계절 학기\n",
    "## 기초 수학: 벡터와 행렬\n",
    "## bonjour.kang@gmail.com"
   ]
  },
  {
   "cell_type": "code",
   "execution_count": null,
   "metadata": {},
   "outputs": [],
   "source": [
    "# 필요한 패키지\n",
    "import numpy as np\n",
    "import scipy\n",
    "from scipy import linalg as la\n",
    "import matplotlib.pyplot as plt\n",
    "\n",
    "# 버전 확인\n",
    "print(np.__version__)\n",
    "# 1.15.4\n",
    "print(scipy.__version__)\n",
    "# 1.2.1"
   ]
  },
  {
   "cell_type": "code",
   "execution_count": null,
   "metadata": {},
   "outputs": [],
   "source": [
    "# 벡터의 생성\n",
    "v = np.array([0.61, 0.93, 0.24, 0.27])\n",
    "\n",
    "print(type(v))\n",
    "print(v)"
   ]
  },
  {
   "cell_type": "code",
   "execution_count": null,
   "metadata": {},
   "outputs": [],
   "source": [
    "# 벡터의 원소\n",
    "v = np.array([0.61, 0.93, 0.24, 0.27])\n",
    "v[0]"
   ]
  },
  {
   "cell_type": "code",
   "execution_count": null,
   "metadata": {},
   "outputs": [],
   "source": [
    "# 벡터의 크기\n",
    "v = np.array([0.61, 0.93, 0.24, 0.27])\n",
    "v.shape"
   ]
  },
  {
   "cell_type": "code",
   "execution_count": null,
   "metadata": {},
   "outputs": [],
   "source": [
    "# 부분 벡터의 생성\n",
    "v = np.array([0.61, 0.93, 0.24, 0.27])\n",
    "v_sub = v[0:2]\n",
    "print(v_sub)"
   ]
  },
  {
   "cell_type": "markdown",
   "metadata": {},
   "source": [
    "## 특별한 벡터"
   ]
  },
  {
   "cell_type": "code",
   "execution_count": null,
   "metadata": {},
   "outputs": [],
   "source": [
    "# 영 벡터\n",
    "zeros = np.zeros(shape=(4,))\n",
    "print(zeros)"
   ]
  },
  {
   "cell_type": "code",
   "execution_count": null,
   "metadata": {},
   "outputs": [],
   "source": [
    "# 1 벡터\n",
    "size = 3\n",
    "one = np.ones(shape=(size, ))\n",
    "print(one)"
   ]
  },
  {
   "cell_type": "code",
   "execution_count": null,
   "metadata": {},
   "outputs": [],
   "source": [
    "# 단위 벡터\n",
    "size = 3\n",
    "e = np.diag(np.ones(shape=(size,)))\n",
    "print(e)\n",
    "\n",
    "# 하나의 단위  벡터의 예\n",
    "print('하나의 단위벡터:', e[:,1])"
   ]
  },
  {
   "cell_type": "markdown",
   "metadata": {},
   "source": [
    "## 벡터의 연산"
   ]
  },
  {
   "cell_type": "code",
   "execution_count": null,
   "metadata": {},
   "outputs": [],
   "source": [
    "# 벡터의 덧셈\n",
    "a = np.array([1, 3])\n",
    "b = np.array([3, 1])\n",
    "\n",
    "print(a+b)\n",
    "\n",
    "# 교환 법칙\n",
    "print('교환:', a + b == b + a)\n",
    "\n",
    "# 결합 법칙\n",
    "d = np.array([1, 2])\n",
    "print('결합', (a + b) + d == a + (b + d))"
   ]
  },
  {
   "cell_type": "code",
   "execution_count": null,
   "metadata": {},
   "outputs": [],
   "source": [
    "# 벡터의 뺄셈\n",
    "a = np.array([3, 1])\n",
    "b = np.array([1, 3])\n",
    "\n",
    "print(b-a)"
   ]
  },
  {
   "cell_type": "code",
   "execution_count": null,
   "metadata": {},
   "outputs": [],
   "source": [
    "# 스칼라-벡터 곱\n",
    "alpha = 1/2\n",
    "a = np.array([2, 3])\n",
    "print(alpha * a)\n",
    "\n",
    "# 교환 법칙\n",
    "alpha = 0.5\n",
    "a = np.array([2, 3])\n",
    "alpha * a == a * alpha\n",
    "# array([ True,  True])\n",
    "\n",
    "# 분배 법칙\n",
    "beta = 0.7\n",
    "(alpha + beta) * a == alpha * a +beta * a\n",
    "# array([ True,  True])"
   ]
  },
  {
   "cell_type": "code",
   "execution_count": null,
   "metadata": {},
   "outputs": [],
   "source": [
    "# 선형 결합\n",
    "beta = np.array([0.7, 0.9])\n",
    "a = np.array([1, 3])\n",
    "b = np.array([3, 1])\n",
    "a_shrink = beta[0] * a\n",
    "b_shrink = beta[1] * b\n",
    "\n",
    "d = a_shrink + b_shrink\n",
    "print(d)\n"
   ]
  },
  {
   "cell_type": "markdown",
   "metadata": {},
   "source": [
    "## 내적"
   ]
  },
  {
   "cell_type": "code",
   "execution_count": null,
   "metadata": {},
   "outputs": [],
   "source": [
    "# 내적 계산\n",
    "a = np.array([-1, 2, 3])\n",
    "b = np.array([1, -2, 4])\n",
    "\n",
    "print(np.sum(a*b))\n",
    "\n",
    "np.inner(a, b) == np.dot(a, b)"
   ]
  },
  {
   "cell_type": "code",
   "execution_count": null,
   "metadata": {},
   "outputs": [],
   "source": [
    "# 내적의 성질\n",
    "a = np.array([-1, 2, 3])\n",
    "b = np.array([1, -2, 4])\n",
    "\n",
    "# 교환 법칙\n",
    "print(np.dot(a, b) == np.dot(b, a))\n",
    "\n",
    "# 결합 법칙\n",
    "alpha= 0.5\n",
    "print(np.dot(alpha * a, b) == alpha * np.dot(a, b))\n",
    "\n",
    "# 분배 법칙\n",
    "c = np.array([1, 2, 3])\n",
    "np.dot(a+b, c) == np.dot(a,c) + np.dot(b, c)"
   ]
  },
  {
   "cell_type": "code",
   "execution_count": null,
   "metadata": {},
   "outputs": [],
   "source": [
    "# 내적의 활용\n",
    "\n",
    "a = np.array([1, 2, 3])\n",
    "size = len(a)\n",
    "ones = np.ones(shape=(size,))\n",
    "\n",
    "# 합의 표현\n",
    "print(np.dot(ones, a) == np.sum(a))\n",
    "\n",
    "# 평균의 표현\n",
    "print(np.dot(ones, a) / len(a) == np.mean(a))\n",
    "\n",
    "# 제곱합의 표현\n",
    "print(np.dot(a, a) == np.sum(np.square(a)))"
   ]
  },
  {
   "cell_type": "markdown",
   "metadata": {},
   "source": [
    "## 벡터 노름"
   ]
  },
  {
   "cell_type": "code",
   "execution_count": null,
   "metadata": {},
   "outputs": [],
   "source": [
    "# 필요한 패키지\n",
    "from scipy import linalg as la\n",
    "\n",
    "# 벡터 노름의 계산\n",
    "a = np.array([-1, 2, 3])\n",
    "print(\"%.3f\" %la.norm(a))\n",
    "\n",
    "la.norm(a) == np.sqrt(np.dot(a, a))"
   ]
  },
  {
   "cell_type": "code",
   "execution_count": null,
   "metadata": {},
   "outputs": [],
   "source": [
    "# 벡터 노름의 성질\n",
    "a = np.array([-1, 2, 3])\n",
    "b = np.array([1, -2, 4])\n",
    "\n",
    "# 스칼라 곱\n",
    "beta = 0.5\n",
    "print(la.norm(beta * a) == np.abs(beta) * la.norm(a))\n",
    "\n",
    "# 삼각형의 한 변의 길이는 다른 두변의 길이의 합보다 작다\n",
    "print(la.norm(a + b) <= la.norm(a) + la.norm(b))\n",
    "\n",
    "# 길이는 0보다 크거나 작다\n",
    "print(la.norm(a) >= 0 )"
   ]
  },
  {
   "cell_type": "markdown",
   "metadata": {},
   "source": [
    "## 내적과 노름"
   ]
  },
  {
   "cell_type": "code",
   "execution_count": null,
   "metadata": {},
   "outputs": [],
   "source": [
    "# 직교정규 벡터 확인\n",
    "a1 = 1/np.sqrt(2) * np.array([-1, 1])\n",
    "a2 = 1/np.sqrt(2) * np.array([1, 1])\n",
    "\n",
    "print(la.norm(a1))\n",
    "print(la.norm(a2))\n",
    "print(np.dot(a1, a2))"
   ]
  },
  {
   "cell_type": "markdown",
   "metadata": {},
   "source": [
    "# 행렬"
   ]
  },
  {
   "cell_type": "markdown",
   "metadata": {},
   "source": [
    "## 행렬 표현"
   ]
  },
  {
   "cell_type": "code",
   "execution_count": null,
   "metadata": {
    "scrolled": false
   },
   "outputs": [],
   "source": [
    "# 정의: 2차원 배열\n",
    "A = np.array(np.random.RandomState(123).normal(size=16)).reshape(4, 4)\n",
    "print(np.round(A, 2))"
   ]
  },
  {
   "cell_type": "code",
   "execution_count": null,
   "metadata": {},
   "outputs": [],
   "source": [
    "# 행렬의 크기\n",
    "A = np.random.RandomState(123).randint(1, 12, size=12).reshape(3, 4)\n",
    "print(A)\n",
    "print(A.shape)"
   ]
  },
  {
   "cell_type": "code",
   "execution_count": null,
   "metadata": {
    "scrolled": true
   },
   "outputs": [],
   "source": [
    "# 행렬의 표기법\n",
    "A = np.random.RandomState(123).randint(1, 12, size=12).reshape(3, 4)\n",
    "print(A)\n",
    "print('[1, 1] 원소', A[0, 0])"
   ]
  },
  {
   "cell_type": "markdown",
   "metadata": {},
   "source": [
    "## 행렬 연산"
   ]
  },
  {
   "cell_type": "code",
   "execution_count": null,
   "metadata": {},
   "outputs": [],
   "source": [
    "# 행렬 덧셈\n",
    "A = np.arange(1, 7).reshape(2, 3)\n",
    "B = np.arange(3, 9).reshape(2, 3)\n",
    "\n",
    "print(A)\n",
    "print(B)\n",
    "print(A+B)"
   ]
  },
  {
   "cell_type": "code",
   "execution_count": null,
   "metadata": {
    "scrolled": true
   },
   "outputs": [],
   "source": [
    "# 행렬 덧셈의 성질\n",
    "# 교환 법칙\n",
    "A + B == B + A"
   ]
  },
  {
   "cell_type": "code",
   "execution_count": null,
   "metadata": {
    "scrolled": true
   },
   "outputs": [],
   "source": [
    "# 스칼라와 행렬 곱: *\n",
    "c = 0.1\n",
    "print(c * A)\n",
    "\n",
    "print(c*A == A*c)"
   ]
  },
  {
   "cell_type": "code",
   "execution_count": null,
   "metadata": {},
   "outputs": [],
   "source": [
    "# 행렬의 전치\n",
    "A = np.arange(1, 7).reshape(3, 2)\n",
    "print(A)\n",
    "\n",
    "A_transpose = A.T\n",
    "print(A_transpose)"
   ]
  },
  {
   "cell_type": "code",
   "execution_count": null,
   "metadata": {
    "scrolled": true
   },
   "outputs": [],
   "source": [
    "# 행렬 전치의 성질\n",
    "A = np.arange(1, 7).reshape(2, 3)\n",
    "B = np.arange(3, 9).reshape(2, 3)\n",
    "\n",
    "print(A)\n",
    "print(B)\n",
    "\n",
    "print((A + B).T)\n",
    "print(A.T + B.T)\n",
    "\n",
    "c = 0.1\n",
    "print((c*A).T == c*A.T)"
   ]
  },
  {
   "cell_type": "code",
   "execution_count": null,
   "metadata": {},
   "outputs": [],
   "source": [
    "# 행렬 곱\n",
    "A = np.arange(1, 7).reshape(2, 3)\n",
    "B = np.arange(1, 7).reshape(3, 2)\n",
    "\n",
    "print(A)\n",
    "print(B)\n",
    "\n",
    "print(A.shape)\n",
    "print(B.shape)"
   ]
  },
  {
   "cell_type": "code",
   "execution_count": null,
   "metadata": {},
   "outputs": [],
   "source": [
    "# 행렬곱 연산자: @\n",
    "np.matmul(A, B) == A @ B\n",
    "print(A @ B)\n",
    "\n",
    "# 행렬곱 계산 방식\n",
    "C = A @ B\n",
    "print(C[1, 0] == np.dot(A[1,:], B[:,0]))\n",
    "# True"
   ]
  },
  {
   "cell_type": "code",
   "execution_count": null,
   "metadata": {},
   "outputs": [],
   "source": [
    "# 행렬곱의 성질\n",
    "A = np.arange(1, 5).reshape(2, 2)\n",
    "B = np.arange(5, 9).reshape(2, 2)\n",
    "\n",
    "print(A)\n",
    "# [[1 2]\n",
    "#  [3 4]]\n",
    "print(B)\n",
    "# [[5 6]\n",
    "#  [7 8]]\n",
    "\n",
    "A @ B == B @ A\n",
    "# array([[False, False],\n",
    "#        [False, False]])"
   ]
  },
  {
   "cell_type": "code",
   "execution_count": null,
   "metadata": {
    "scrolled": true
   },
   "outputs": [],
   "source": [
    "# 부분 행렬\n",
    "A = np.arange(1, 13).reshape(4, 3)\n",
    "print(A)\n",
    "\n",
    "# 유형 1\n",
    "print(A[0:2, 1:3])\n",
    "\n",
    "# 유형 2\n",
    "print(A[:, 1:3])\n",
    "\n",
    "# 유형 3\n",
    "print(A[[0, 2], :][:, [1, 2]])"
   ]
  },
  {
   "cell_type": "markdown",
   "metadata": {},
   "source": [
    "## 특별한 행렬"
   ]
  },
  {
   "cell_type": "code",
   "execution_count": null,
   "metadata": {},
   "outputs": [],
   "source": [
    "#  영 행렬\n",
    "size = 3\n",
    "np.zeros(shape=(size, size))"
   ]
  },
  {
   "cell_type": "code",
   "execution_count": null,
   "metadata": {},
   "outputs": [],
   "source": [
    "# 항등 행렬\n",
    "np.identity(n=size)"
   ]
  },
  {
   "cell_type": "code",
   "execution_count": null,
   "metadata": {
    "scrolled": true
   },
   "outputs": [],
   "source": [
    "# 대각 행렬\n",
    "np.diag([1, 2, 3])"
   ]
  },
  {
   "cell_type": "code",
   "execution_count": null,
   "metadata": {},
   "outputs": [],
   "source": [
    "# 상삼각 행렬\n",
    "np.triu([[1,2,3],[1, 2, 7],[7,8,5]], k=0)"
   ]
  },
  {
   "cell_type": "code",
   "execution_count": null,
   "metadata": {
    "scrolled": true
   },
   "outputs": [],
   "source": [
    "# 직교 행렬(orthogonal matrix)\n",
    "A = np.array([[1,0], [0, -1]])\n",
    "print(A)\n",
    "print(A.T @ A)\n",
    "print(A @ A.T)"
   ]
  }
 ],
 "metadata": {
  "kernelspec": {
   "display_name": "Python 3",
   "language": "python",
   "name": "python3"
  },
  "language_info": {
   "codemirror_mode": {
    "name": "ipython",
    "version": 3
   },
   "file_extension": ".py",
   "mimetype": "text/x-python",
   "name": "python",
   "nbconvert_exporter": "python",
   "pygments_lexer": "ipython3",
   "version": "3.7.3"
  }
 },
 "nbformat": 4,
 "nbformat_minor": 2
}
